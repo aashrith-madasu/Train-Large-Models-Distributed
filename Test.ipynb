{
 "cells": [
  {
   "cell_type": "code",
   "execution_count": 3,
   "id": "07f75467",
   "metadata": {},
   "outputs": [],
   "source": [
    "from datasets import load_dataset\n",
    "from transformers import AutoModelForCausalLM, AutoTokenizer, LlamaTokenizerFast, BitsAndBytesConfig\n",
    "from typing import Dict, List\n",
    "import torch"
   ]
  },
  {
   "cell_type": "code",
   "execution_count": null,
   "id": "8a62cdc2",
   "metadata": {},
   "outputs": [
    {
     "name": "stderr",
     "output_type": "stream",
     "text": [
      "Fetching 2 files: 100%|██████████| 2/2 [00:06<00:00,  3.09s/it]\n",
      "Loading checkpoint shards: 100%|██████████| 2/2 [00:09<00:00,  4.57s/it]\n"
     ]
    }
   ],
   "source": [
    "model_name = \"deepseek-ai/DeepSeek-R1-Distill-Qwen-7B\"\n",
    "\n",
    "# tokenizer = AutoTokenizer.from_pretrained(model_name)\n",
    "# tokenizer.chat_template = open(\"new_chat_template.txt\").read()\n",
    "\n",
    "# model = AutoModelForCausalLM.from_pretrained(\n",
    "#     pretrained_model_name_or_path=model_name,\n",
    "#     device_map=\"auto\"\n",
    "# )\n",
    "\n",
    "bnb_config = BitsAndBytesConfig(\n",
    "    load_in_4bit=True,\n",
    "    bnb_4bit_compute_dtype=torch.bfloat16,  # or torch.float16\n",
    "    bnb_4bit_use_double_quant=True,\n",
    "    bnb_4bit_quant_type=\"nf4\",  # or \"fp4\"\n",
    ")\n",
    "\n",
    "model = AutoModelForCausalLM.from_pretrained(\n",
    "    model_name,\n",
    "    quantization_config=bnb_config,\n",
    "    device_map=\"auto\"\n",
    ")"
   ]
  },
  {
   "cell_type": "code",
   "execution_count": 1,
   "id": "2f283749",
   "metadata": {},
   "outputs": [
    {
     "name": "stdout",
     "output_type": "stream",
     "text": [
      "True\n"
     ]
    }
   ],
   "source": [
    "import torch\n",
    "print(torch.cuda.is_bf16_supported())\n"
   ]
  },
  {
   "cell_type": "code",
   "execution_count": 3,
   "id": "5ec6f683",
   "metadata": {},
   "outputs": [],
   "source": [
    "dataset = load_dataset(\"FractalAIResearch/Fathom-V0.6-Iterative-Curriculum-Learning\")"
   ]
  },
  {
   "cell_type": "code",
   "execution_count": 4,
   "id": "795fbd96",
   "metadata": {},
   "outputs": [],
   "source": [
    "# example = dataset['train'][0]\n",
    "\n",
    "# chat = [\n",
    "#     {\"role\": \"system\", \"content\" : example['system prompt']},\n",
    "#     {\"role\": \"user\", \"content\": example['problem']},\n",
    "#     {\"role\": \"assistant\", \"content\": example['solution']},\n",
    "# ]\n",
    "\n",
    "# chat"
   ]
  },
  {
   "cell_type": "code",
   "execution_count": 5,
   "id": "c537e4b7",
   "metadata": {},
   "outputs": [],
   "source": [
    "# formatted_prompt = tokenizer.apply_chat_template(chat, tokenize=False)\n",
    "\n",
    "# formatted_prompt"
   ]
  },
  {
   "cell_type": "code",
   "execution_count": 16,
   "id": "f038dc43",
   "metadata": {},
   "outputs": [],
   "source": [
    "def tokenize_fn(examples: Dict[str, List]):\n",
    "    \n",
    "    N = len(examples['problem'])\n",
    "    \n",
    "    input_texts = []\n",
    "    \n",
    "    for i in range(N):\n",
    "        chat = [\n",
    "            {\"role\": \"system\", \"content\": examples['system prompt'][i]},\n",
    "            {\"role\": \"user\", \"content\": examples['problem'][i]},\n",
    "            {\"role\": \"assistant\", \"content\": examples['solution'][i]}\n",
    "        ]\n",
    "        formatted_prompt = tokenizer.apply_chat_template(chat, tokenize=False)\n",
    "        input_texts.append(formatted_prompt)\n",
    "        \n",
    "    inputs = tokenizer(input_texts, truncation=True, max_length=16000)\n",
    "    # inputs[\"labels\"] = inputs[\"input_ids\"].copy()\n",
    "    return inputs"
   ]
  },
  {
   "cell_type": "code",
   "execution_count": 17,
   "id": "9cc75587",
   "metadata": {},
   "outputs": [
    {
     "data": {
      "application/vnd.jupyter.widget-view+json": {
       "model_id": "6285270118124f189e01a0e7a74d2ef2",
       "version_major": 2,
       "version_minor": 0
      },
      "text/plain": [
       "Map:   0%|          | 0/5041 [00:00<?, ? examples/s]"
      ]
     },
     "metadata": {},
     "output_type": "display_data"
    }
   ],
   "source": [
    "tokenized_train = dataset[\"train\"].map(tokenize_fn, batched=True, batch_size=100, \n",
    "                                       remove_columns=dataset[\"train\"].column_names)"
   ]
  },
  {
   "cell_type": "code",
   "execution_count": null,
   "id": "cdf38b76",
   "metadata": {},
   "outputs": [],
   "source": [
    "# tokenized_train.set_format(type=\"torch\", columns=[\"input_ids\", \"attention_mask\", \"labels\"])"
   ]
  },
  {
   "cell_type": "code",
   "execution_count": null,
   "id": "494b5bf3",
   "metadata": {},
   "outputs": [],
   "source": [
    "tokenized_train[0]['input_ids'][:100]\n",
    "# tokenized_train"
   ]
  },
  {
   "cell_type": "code",
   "execution_count": null,
   "id": "3725683e",
   "metadata": {},
   "outputs": [],
   "source": [
    "from torch.utils.data import DataLoader\n",
    "from transformers import DataCollatorWithPadding, DataCollatorForLanguageModeling\n",
    "\n",
    "\n",
    "# This will handle:\n",
    "#     1. Dynamic padding\n",
    "#     2. Creates \"label\" tensor (copy from input_ids and set -100 for pad positions)\n",
    "data_collator = DataCollatorForLanguageModeling(\n",
    "    tokenizer=tokenizer,\n",
    "    mlm=False,\n",
    "    return_tensors='pt'\n",
    ")\n",
    "\n",
    "train_dataloader = DataLoader(\n",
    "    tokenized_train,\n",
    "    batch_size=8,\n",
    "    shuffle=True,\n",
    "    collate_fn=data_collator\n",
    ")"
   ]
  },
  {
   "cell_type": "code",
   "execution_count": null,
   "id": "cf07a57a",
   "metadata": {},
   "outputs": [],
   "source": []
  }
 ],
 "metadata": {
  "kernelspec": {
   "display_name": ".venv",
   "language": "python",
   "name": "python3"
  },
  "language_info": {
   "codemirror_mode": {
    "name": "ipython",
    "version": 3
   },
   "file_extension": ".py",
   "mimetype": "text/x-python",
   "name": "python",
   "nbconvert_exporter": "python",
   "pygments_lexer": "ipython3",
   "version": "3.12.3"
  }
 },
 "nbformat": 4,
 "nbformat_minor": 5
}
